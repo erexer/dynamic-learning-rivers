{
 "cells": [
  {
   "cell_type": "code",
   "execution_count": 16,
   "metadata": {},
   "outputs": [],
   "source": [
    "import pandas as pd\n",
    "import numpy as np"
   ]
  },
  {
   "cell_type": "code",
   "execution_count": 27,
   "metadata": {},
   "outputs": [],
   "source": [
    "df=pd.read_csv(\"/home/jovyan/work/dynamic-learning-rivers/input_data/ICON-ModEx_Data.csv\")\n",
    "df.dropna(subset=[\"Respiration_Rate_mg_per_L_per_H\"],inplace=True)"
   ]
  },
  {
   "cell_type": "code",
   "execution_count": 28,
   "metadata": {},
   "outputs": [],
   "source": [
    "import matplotlib.pyplot as plt"
   ]
  },
  {
   "cell_type": "code",
   "execution_count": 33,
   "metadata": {},
   "outputs": [
    {
     "data": {
      "text/plain": [
       "(array([ 1.,  0.,  0.,  0.,  0.,  0.,  0.,  0.,  0.,  0.,  0.,  2.,  0.,\n",
       "         2.,  0.,  0.,  0.,  0.,  1.,  1.,  1.,  1.,  4.,  4.,  1.,  3.,\n",
       "         2.,  3.,  4.,  4.,  5.,  7.,  8.,  4.,  7.,  2.,  6.,  9.,  6.,\n",
       "         7., 12., 15.,  7., 15., 16., 13.,  9., 16., 11.,  6., 12., 12.,\n",
       "        15.,  7., 11., 11.,  7.,  5., 11.,  8., 10.,  7., 14.,  8.,  7.,\n",
       "         5.,  8.,  7.,  4., 16.,  7., 11.,  9., 13.,  6.,  6.,  6.,  5.,\n",
       "         8., 12.,  8.,  5.,  6.,  2.,  3.,  2.,  3.,  1.,  1.,  0.,  0.,\n",
       "         0.,  0.,  1.,  0.,  0.,  0.,  0.,  0.,  1.]),\n",
       " array([-3.21887582, -3.13766399, -3.05645216, -2.97524033, -2.8940285 ,\n",
       "        -2.81281666, -2.73160483, -2.650393  , -2.56918117, -2.48796933,\n",
       "        -2.4067575 , -2.32554567, -2.24433384, -2.163122  , -2.08191017,\n",
       "        -2.00069834, -1.91948651, -1.83827467, -1.75706284, -1.67585101,\n",
       "        -1.59463918, -1.51342734, -1.43221551, -1.35100368, -1.26979185,\n",
       "        -1.18858001, -1.10736818, -1.02615635, -0.94494452, -0.86373268,\n",
       "        -0.78252085, -0.70130902, -0.62009719, -0.53888535, -0.45767352,\n",
       "        -0.37646169, -0.29524986, -0.21403803, -0.13282619, -0.05161436,\n",
       "         0.02959747,  0.1108093 ,  0.19202114,  0.27323297,  0.3544448 ,\n",
       "         0.43565663,  0.51686847,  0.5980803 ,  0.67929213,  0.76050396,\n",
       "         0.8417158 ,  0.92292763,  1.00413946,  1.08535129,  1.16656313,\n",
       "         1.24777496,  1.32898679,  1.41019862,  1.49141046,  1.57262229,\n",
       "         1.65383412,  1.73504595,  1.81625779,  1.89746962,  1.97868145,\n",
       "         2.05989328,  2.14110511,  2.22231695,  2.30352878,  2.38474061,\n",
       "         2.46595244,  2.54716428,  2.62837611,  2.70958794,  2.79079977,\n",
       "         2.87201161,  2.95322344,  3.03443527,  3.1156471 ,  3.19685894,\n",
       "         3.27807077,  3.3592826 ,  3.44049443,  3.52170627,  3.6029181 ,\n",
       "         3.68412993,  3.76534176,  3.8465536 ,  3.92776543,  4.00897726,\n",
       "         4.09018909,  4.17140093,  4.25261276,  4.33382459,  4.41503642,\n",
       "         4.49624826,  4.57746009,  4.65867192,  4.73988375,  4.82109558,\n",
       "         4.90230742]),\n",
       " <a list of 100 Patch objects>)"
      ]
     },
     "execution_count": 33,
     "metadata": {},
     "output_type": "execute_result"
    },
    {
     "data": {
      "image/png": "[encoded data removed]",
      "text/plain": [
       "<Figure size 432x288 with 1 Axes>"
      ]
     },
     "metadata": {
      "needs_background": "light"
     },
     "output_type": "display_data"
    }
   ],
   "source": [
    "fig, ax = plt.subplots(1,1)\n",
    "ax.hist(np.log(np.abs(df['Respiration_Rate_mg_per_L_per_H'].values)),100)"
   ]
  },
  {
   "cell_type": "code",
   "execution_count": 12,
   "metadata": {},
   "outputs": [
    {
     "data": {
      "text/plain": [
       "1295.9667837751517"
      ]
     },
     "execution_count": 12,
     "metadata": {},
     "output_type": "execute_result"
    }
   ],
   "source": [
    "df['Respiration_Rate_mg_per_L_per_H'].sum()/df['Respiration_Rate_mg_per_L_per_H'].median()"
   ]
  },
  {
   "cell_type": "code",
   "execution_count": 34,
   "metadata": {},
   "outputs": [],
   "source": [
    "vals = df['Respiration_Rate_mg_per_L_per_H'].values"
   ]
  },
  {
   "cell_type": "code",
   "execution_count": 39,
   "metadata": {},
   "outputs": [
    {
     "data": {
      "text/plain": [
       "0.912729022947148"
      ]
     },
     "execution_count": 39,
     "metadata": {},
     "output_type": "execute_result"
    }
   ],
   "source": [
    "# Use less than < instead of > because the numbers are negative!!!\n",
    "np.sum(vals[vals < np.median(vals)])/np.sum(vals)"
   ]
  },
  {
   "cell_type": "code",
   "execution_count": 40,
   "metadata": {},
   "outputs": [
    {
     "ename": "SyntaxError",
     "evalue": "invalid syntax (<ipython-input-40-7964da2ce277>, line 1)",
     "output_type": "error",
     "traceback": [
      "\u001b[0;36m  File \u001b[0;32m\"<ipython-input-40-7964da2ce277>\"\u001b[0;36m, line \u001b[0;32m1\u001b[0m\n\u001b[0;31m    sum(rates > median)/sum(all rates)\u001b[0m\n\u001b[0m                                    ^\u001b[0m\n\u001b[0;31mSyntaxError\u001b[0m\u001b[0;31m:\u001b[0m invalid syntax\n"
     ]
    }
   ],
   "source": [
    "sum(rates > median)/sum(all rates)\n"
   ]
  },
  {
   "cell_type": "code",
   "execution_count": 42,
   "metadata": {},
   "outputs": [
    {
     "data": {
      "text/plain": [
       "-3.1310000000000002"
      ]
     },
     "execution_count": 42,
     "metadata": {},
     "output_type": "execute_result"
    }
   ],
   "source": [
    "np.median(vals)"
   ]
  },
  {
   "cell_type": "code",
   "execution_count": null,
   "metadata": {},
   "outputs": [],
   "source": []
  }
 ],
 "metadata": {
  "kernelspec": {
   "display_name": "Python 3",
   "language": "python",
   "name": "python3"
  },
  "language_info": {
   "codemirror_mode": {
    "name": "ipython",
    "version": 3
   },
   "file_extension": ".py",
   "mimetype": "text/x-python",
   "name": "python",
   "nbconvert_exporter": "python",
   "pygments_lexer": "ipython3",
   "version": "3.7.6"
  }
 },
 "nbformat": 4,
 "nbformat_minor": 4
}
