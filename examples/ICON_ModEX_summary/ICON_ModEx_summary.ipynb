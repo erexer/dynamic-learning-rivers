{
 "cells": [
  {
   "cell_type": "markdown",
   "metadata": {},
   "source": [
    "# Plotting code for summary of ICON-ModEx iterations\n",
    "Note that the results of the Cross Validation (CV) are suspect - there is a *repeating pattern* in some of the results in a process that should be entirely random.\n",
    "\n",
    "1. I am reporting the `cv_std` of the cross-validation (CV) iterations b/c that's the only measure we have for each individual iteration of the historical ModEx iterations, despite its possible flaws.\n",
    "2. Some of the `cv_avg` (average over the scores of 5 CV iterations of the same model) and `hold-out` (the score of a single model, the \"offical\" model of that iteration) differ by considerable amounts.  Therefore, I select the maximum value to plot because they are each different estimates for the accuracy of the model."
   ]
  },
  {
   "cell_type": "code",
   "execution_count": 1,
   "metadata": {},
   "outputs": [],
   "source": [
    "import matplotlib.pyplot as plt\n",
    "import pandas as pd\n",
    "import numpy as np"
   ]
  },
  {
   "cell_type": "code",
   "execution_count": 2,
   "metadata": {},
   "outputs": [],
   "source": [
    "icon_modex_summary = pd.read_csv('ICON_ModEX_summary.csv')"
   ]
  },
  {
   "cell_type": "code",
   "execution_count": 3,
   "metadata": {},
   "outputs": [
    {
     "data": {
      "text/html": [
       "<div>\n",
       "<style scoped>\n",
       "    .dataframe tbody tr th:only-of-type {\n",
       "        vertical-align: middle;\n",
       "    }\n",
       "\n",
       "    .dataframe tbody tr th {\n",
       "        vertical-align: top;\n",
       "    }\n",
       "\n",
       "    .dataframe thead th {\n",
       "        text-align: right;\n",
       "    }\n",
       "</style>\n",
       "<table border=\"1\" class=\"dataframe\">\n",
       "  <thead>\n",
       "    <tr style=\"text-align: right;\">\n",
       "      <th></th>\n",
       "      <th>Job_ID</th>\n",
       "      <th>hold-out</th>\n",
       "      <th>cv_avg</th>\n",
       "      <th>cv_std</th>\n",
       "    </tr>\n",
       "  </thead>\n",
       "  <tbody>\n",
       "    <tr>\n",
       "      <th>0</th>\n",
       "      <td>58356</td>\n",
       "      <td>0.016</td>\n",
       "      <td>0.121</td>\n",
       "      <td>0.080</td>\n",
       "    </tr>\n",
       "    <tr>\n",
       "      <th>1</th>\n",
       "      <td>60166</td>\n",
       "      <td>-0.591</td>\n",
       "      <td>0.072</td>\n",
       "      <td>0.112</td>\n",
       "    </tr>\n",
       "    <tr>\n",
       "      <th>2</th>\n",
       "      <td>60207</td>\n",
       "      <td>0.118</td>\n",
       "      <td>0.036</td>\n",
       "      <td>0.097</td>\n",
       "    </tr>\n",
       "    <tr>\n",
       "      <th>3</th>\n",
       "      <td>60301</td>\n",
       "      <td>0.196</td>\n",
       "      <td>0.016</td>\n",
       "      <td>0.172</td>\n",
       "    </tr>\n",
       "    <tr>\n",
       "      <th>4</th>\n",
       "      <td>60357</td>\n",
       "      <td>0.250</td>\n",
       "      <td>-0.059</td>\n",
       "      <td>0.253</td>\n",
       "    </tr>\n",
       "    <tr>\n",
       "      <th>5</th>\n",
       "      <td>60466</td>\n",
       "      <td>0.271</td>\n",
       "      <td>-0.084</td>\n",
       "      <td>0.224</td>\n",
       "    </tr>\n",
       "  </tbody>\n",
       "</table>\n",
       "</div>"
      ],
      "text/plain": [
       "   Job_ID  hold-out  cv_avg  cv_std\n",
       "0   58356     0.016   0.121   0.080\n",
       "1   60166    -0.591   0.072   0.112\n",
       "2   60207     0.118   0.036   0.097\n",
       "3   60301     0.196   0.016   0.172\n",
       "4   60357     0.250  -0.059   0.253\n",
       "5   60466     0.271  -0.084   0.224"
      ]
     },
     "execution_count": 3,
     "metadata": {},
     "output_type": "execute_result"
    }
   ],
   "source": [
    "icon_modex_summary"
   ]
  },
  {
   "cell_type": "code",
   "execution_count": 4,
   "metadata": {},
   "outputs": [
    {
     "data": {
      "text/plain": [
       "0    0.121\n",
       "1    0.072\n",
       "2    0.118\n",
       "3    0.196\n",
       "4    0.250\n",
       "5    0.271\n",
       "dtype: float64"
      ]
     },
     "execution_count": 4,
     "metadata": {},
     "output_type": "execute_result"
    }
   ],
   "source": [
    "# Compare this column with the full data frame, above.\n",
    "icon_modex_summary[['hold-out','cv_avg']].max(axis=1)"
   ]
  },
  {
   "cell_type": "code",
   "execution_count": 5,
   "metadata": {},
   "outputs": [
    {
     "data": {
      "image/png": "[encoded data removed]",
      "text/plain": [
       "<Figure size 432x288 with 1 Axes>"
      ]
     },
     "metadata": {
      "needs_background": "light"
     },
     "output_type": "display_data"
    }
   ],
   "source": [
    "fig, ax = plt.subplots()\n",
    "plt.errorbar(\n",
    "    icon_modex_summary.index,\n",
    "    icon_modex_summary[['hold-out','cv_avg']].max(axis=1),\n",
    "    yerr=icon_modex_summary['cv_std'],\n",
    "    fmt='ko-',\n",
    "    ecolor='r',\n",
    "    capsize=5)\n",
    "ax.grid()\n",
    "plt.ylabel('ML Model Score (R^2)')\n",
    "plt.xlabel('ModEx Iteration')\n",
    "plt.savefig('ICON_ModEx_summary.pdf')"
   ]
  },
  {
   "cell_type": "code",
   "execution_count": null,
   "metadata": {},
   "outputs": [],
   "source": []
  }
 ],
 "metadata": {
  "kernelspec": {
   "display_name": "pyferret",
   "language": "python",
   "name": "pyferret"
  },
  "language_info": {
   "codemirror_mode": {
    "name": "ipython",
    "version": 3
   },
   "file_extension": ".py",
   "mimetype": "text/x-python",
   "name": "python",
   "nbconvert_exporter": "python",
   "pygments_lexer": "ipython3",
   "version": "3.8.2"
  }
 },
 "nbformat": 4,
 "nbformat_minor": 4
}
