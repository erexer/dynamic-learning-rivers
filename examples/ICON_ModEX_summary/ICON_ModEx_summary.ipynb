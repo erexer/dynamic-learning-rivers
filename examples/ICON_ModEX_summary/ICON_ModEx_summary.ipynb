{
 "cells": [
  {
   "cell_type": "markdown",
   "metadata": {},
   "source": [
    "# Plotting code for summary of ICON-ModEx iterations\n",
    "Note that the results of the Cross Validation (CV) are suspect - there is a *repeating pattern* in some of the results in a process that should be entirely random.\n",
    "\n",
    "1. I am reporting the `cv_std` of the cross-validation (CV) iterations b/c that's the only measure we have for each individual iteration of the historical ModEx iterations, despite its possible flaws.\n",
    "2. Some of the `cv_avg` (average over the scores of 5 CV iterations of the same model) and `hold-out` (the score of a single model, the \"offical\" model of that iteration) differ by considerable amounts.  Therefore, I select the maximum value to plot because they are each different estimates for the accuracy of the model."
   ]
  },
  {
   "cell_type": "code",
   "execution_count": 1,
   "metadata": {},
   "outputs": [],
   "source": [
    "import matplotlib.pyplot as plt\n",
    "import pandas as pd\n",
    "import numpy as np"
   ]
  },
  {
   "cell_type": "code",
   "execution_count": 2,
   "metadata": {},
   "outputs": [],
   "source": [
    "icon_modex_summary = pd.read_csv('ICON_ModEX_summary.csv')"
   ]
  },
  {
   "cell_type": "code",
   "execution_count": 3,
   "metadata": {},
   "outputs": [
    {
     "data": {
      "text/html": [
       "<div>\n",
       "<style scoped>\n",
       "    .dataframe tbody tr th:only-of-type {\n",
       "        vertical-align: middle;\n",
       "    }\n",
       "\n",
       "    .dataframe tbody tr th {\n",
       "        vertical-align: top;\n",
       "    }\n",
       "\n",
       "    .dataframe thead th {\n",
       "        text-align: right;\n",
       "    }\n",
       "</style>\n",
       "<table border=\"1\" class=\"dataframe\">\n",
       "  <thead>\n",
       "    <tr style=\"text-align: right;\">\n",
       "      <th></th>\n",
       "      <th>Job_ID</th>\n",
       "      <th>hold-out</th>\n",
       "      <th>cv_avg</th>\n",
       "      <th>cv_std</th>\n",
       "    </tr>\n",
       "  </thead>\n",
       "  <tbody>\n",
       "    <tr>\n",
       "      <th>0</th>\n",
       "      <td>58356</td>\n",
       "      <td>0.016</td>\n",
       "      <td>0.12100</td>\n",
       "      <td>0.0800</td>\n",
       "    </tr>\n",
       "    <tr>\n",
       "      <th>1</th>\n",
       "      <td>60166</td>\n",
       "      <td>-0.591</td>\n",
       "      <td>0.07200</td>\n",
       "      <td>0.1120</td>\n",
       "    </tr>\n",
       "    <tr>\n",
       "      <th>2</th>\n",
       "      <td>60207</td>\n",
       "      <td>0.118</td>\n",
       "      <td>0.03600</td>\n",
       "      <td>0.0970</td>\n",
       "    </tr>\n",
       "    <tr>\n",
       "      <th>3</th>\n",
       "      <td>60301</td>\n",
       "      <td>0.196</td>\n",
       "      <td>0.01600</td>\n",
       "      <td>0.1720</td>\n",
       "    </tr>\n",
       "    <tr>\n",
       "      <th>4</th>\n",
       "      <td>60357</td>\n",
       "      <td>0.250</td>\n",
       "      <td>-0.05900</td>\n",
       "      <td>0.2530</td>\n",
       "    </tr>\n",
       "    <tr>\n",
       "      <th>5</th>\n",
       "      <td>60466</td>\n",
       "      <td>0.271</td>\n",
       "      <td>-0.08400</td>\n",
       "      <td>0.2240</td>\n",
       "    </tr>\n",
       "    <tr>\n",
       "      <th>6</th>\n",
       "      <td>60501</td>\n",
       "      <td>0.396</td>\n",
       "      <td>0.03930</td>\n",
       "      <td>0.1090</td>\n",
       "    </tr>\n",
       "    <tr>\n",
       "      <th>7</th>\n",
       "      <td>60534</td>\n",
       "      <td>0.513</td>\n",
       "      <td>0.03620</td>\n",
       "      <td>0.0789</td>\n",
       "    </tr>\n",
       "    <tr>\n",
       "      <th>8</th>\n",
       "      <td>60601</td>\n",
       "      <td>0.353</td>\n",
       "      <td>0.00696</td>\n",
       "      <td>0.0935</td>\n",
       "    </tr>\n",
       "    <tr>\n",
       "      <th>9</th>\n",
       "      <td>60629</td>\n",
       "      <td>0.243</td>\n",
       "      <td>0.02501</td>\n",
       "      <td>0.0623</td>\n",
       "    </tr>\n",
       "    <tr>\n",
       "      <th>10</th>\n",
       "      <td>20234</td>\n",
       "      <td>0.254</td>\n",
       "      <td>0.00000</td>\n",
       "      <td>0.1500</td>\n",
       "    </tr>\n",
       "    <tr>\n",
       "      <th>11</th>\n",
       "      <td>20235</td>\n",
       "      <td>0.241</td>\n",
       "      <td>0.00000</td>\n",
       "      <td>0.1320</td>\n",
       "    </tr>\n",
       "  </tbody>\n",
       "</table>\n",
       "</div>"
      ],
      "text/plain": [
       "    Job_ID  hold-out   cv_avg  cv_std\n",
       "0    58356     0.016  0.12100  0.0800\n",
       "1    60166    -0.591  0.07200  0.1120\n",
       "2    60207     0.118  0.03600  0.0970\n",
       "3    60301     0.196  0.01600  0.1720\n",
       "4    60357     0.250 -0.05900  0.2530\n",
       "5    60466     0.271 -0.08400  0.2240\n",
       "6    60501     0.396  0.03930  0.1090\n",
       "7    60534     0.513  0.03620  0.0789\n",
       "8    60601     0.353  0.00696  0.0935\n",
       "9    60629     0.243  0.02501  0.0623\n",
       "10   20234     0.254  0.00000  0.1500\n",
       "11   20235     0.241  0.00000  0.1320"
      ]
     },
     "execution_count": 3,
     "metadata": {},
     "output_type": "execute_result"
    }
   ],
   "source": [
    "icon_modex_summary"
   ]
  },
  {
   "cell_type": "code",
   "execution_count": 4,
   "metadata": {},
   "outputs": [
    {
     "data": {
      "text/plain": [
       "0     0.121\n",
       "1     0.072\n",
       "2     0.118\n",
       "3     0.196\n",
       "4     0.250\n",
       "5     0.271\n",
       "6     0.396\n",
       "7     0.513\n",
       "8     0.353\n",
       "9     0.243\n",
       "10    0.254\n",
       "11    0.241\n",
       "dtype: float64"
      ]
     },
     "execution_count": 4,
     "metadata": {},
     "output_type": "execute_result"
    }
   ],
   "source": [
    "# Compare this column with the full data frame, above.\n",
    "icon_modex_summary[['hold-out','cv_avg']].max(axis=1)"
   ]
  },
  {
   "cell_type": "code",
   "execution_count": 8,
   "metadata": {
    "scrolled": true
   },
   "outputs": [
    {
     "data": {
      "image/png": "[encoded data removed]",
      "text/plain": [
       "<Figure size 432x288 with 1 Axes>"
      ]
     },
     "metadata": {
      "needs_background": "light"
     },
     "output_type": "display_data"
    }
   ],
   "source": [
    "fig, ax = plt.subplots()\n",
    "plt.errorbar(\n",
    "    icon_modex_summary.index,\n",
    "    icon_modex_summary[['hold-out','cv_avg']].max(axis=1),\n",
    "    yerr=icon_modex_summary['cv_std'],\n",
    "    fmt='ko-',\n",
    "    ecolor='r',\n",
    "    capsize=5)\n",
    "ax.grid()\n",
    "plt.ylabel('ML Model Score (R^2)')\n",
    "plt.xlabel('ModEx Iteration')\n",
    "plt.savefig('ICON_ModEx_summary.pdf')"
   ]
  },
  {
   "cell_type": "markdown",
   "metadata": {},
   "source": [
    "**Caption:** Model score for each ModEx iteration starting from the model presented during the Dec. 2021 Community Meeting.  Iterations 1-9 are the model score for a SINGLE SuperLearner stacked ensemble model whose uncertainty is estimated with 5-fold cross-validation (CV). (These error bars should be treated with some suspicion as there are unusual patterns in the CV results.) Iterations 10 and 11 are with the new fully automated ICON-ModEx workflow which trains 10 SuperLearner stacked ensemble models and the values reported here are the average and standard deviation among the 10 models.\n",
    "\n",
    "The peak at iterations 6-8 falls within the range of uncertainty of model score due to randomly splitting the data between training and testing sets. As far as I know, the SuperLearner configuration did not change during this period. I interpret this plot as showing an initial gain in model score with iterations followed by a plateau at around 0.3."
   ]
  },
  {
   "cell_type": "code",
   "execution_count": null,
   "metadata": {},
   "outputs": [],
   "source": []
  }
 ],
 "metadata": {
  "kernelspec": {
   "display_name": "pyferret",
   "language": "python",
   "name": "pyferret"
  },
  "language_info": {
   "codemirror_mode": {
    "name": "ipython",
    "version": 3
   },
   "file_extension": ".py",
   "mimetype": "text/x-python",
   "name": "python",
   "nbconvert_exporter": "python",
   "pygments_lexer": "ipython3",
   "version": "3.8.2"
  }
 },
 "nbformat": 4,
 "nbformat_minor": 4
}
